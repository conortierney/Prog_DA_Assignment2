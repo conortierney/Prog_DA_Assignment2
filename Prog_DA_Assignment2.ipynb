{
 "cells": [
  {
   "cell_type": "markdown",
   "id": "32d49d60",
   "metadata": {},
   "source": [
    "# Programming for Data Analysis - Project 2 (2023)\n"
   ]
  },
  {
   "cell_type": "markdown",
   "id": "541fc887",
   "metadata": {},
   "source": [
    "## About / Introduction"
   ]
  },
  {
   "cell_type": "markdown",
   "id": "755acb18",
   "metadata": {},
   "source": [
    "Task - An analysis of paleo-present climate data"
   ]
  },
  {
   "cell_type": "markdown",
   "id": "ed812274",
   "metadata": {},
   "source": [
    "## Table of Contents"
   ]
  },
  {
   "cell_type": "code",
   "execution_count": 3,
   "id": "80a190ed",
   "metadata": {},
   "outputs": [],
   "source": [
    "# test update comment 29/07/24 for github commit\n"
   ]
  },
  {
   "cell_type": "markdown",
   "id": "2d2bc8ac",
   "metadata": {},
   "source": [
    "## Steps to complete the project"
   ]
  },
  {
   "cell_type": "markdown",
   "id": "f0cf37ba",
   "metadata": {},
   "source": [
    "- Data collection\n",
    "- Load the data: use pandas to load these datasets into dataframes.\n",
    "-\n"
   ]
  },
  {
   "cell_type": "markdown",
   "id": "3583f939",
   "metadata": {},
   "source": [
    "## Data Collection\n",
    "Obtain datasets for CO2 concentrations and temperature anomalies over the last 800kyrs.\n",
    "\n",
    "sources:CO2 data: Ice core data, such as from the Vostok and EPICA Dome C ice cores, up to date(1958) Manau loa \n",
    "Temperature anomaly data: ice core data can provide temperature anomalies, often derived from isotopic analyses. "
   ]
  },
  {
   "cell_type": "markdown",
   "id": "7bc36e72",
   "metadata": {},
   "source": [
    "## Import the necessary Python Libraries"
   ]
  },
  {
   "cell_type": "code",
   "execution_count": 6,
   "id": "931aa322",
   "metadata": {},
   "outputs": [
    {
     "ename": "SyntaxError",
     "evalue": "(unicode error) 'unicodeescape' codec can't decode bytes in position 3-4: truncated \\UXXXXXXXX escape (2999698299.py, line 6)",
     "output_type": "error",
     "traceback": [
      "\u001b[1;36m  Cell \u001b[1;32mIn[6], line 6\u001b[1;36m\u001b[0m\n\u001b[1;33m    co2_data = pd.read_csv('\"C:\\Users\\conor\\Downloads\\C02_Composite.csv\"')\u001b[0m\n\u001b[1;37m                                                                         ^\u001b[0m\n\u001b[1;31mSyntaxError\u001b[0m\u001b[1;31m:\u001b[0m (unicode error) 'unicodeescape' codec can't decode bytes in position 3-4: truncated \\UXXXXXXXX escape\n"
     ]
    }
   ],
   "source": [
    "import pandas as pd\n",
    "import matplotlib.pyplot as plt\n",
    "import seaborn as sns\n",
    "\n",
    "# Load the datasets\n",
    "co2_data = pd.read_csv('\"C:\\Users\\conor\\Downloads\\C02_Composite.csv\"')\n",
    "\n",
    "# Display the first few rows to check the data\n",
    "print(C02_Composite.head())\n"
   ]
  },
  {
   "cell_type": "markdown",
   "id": "68161bb3",
   "metadata": {},
   "source": []
  },
  {
   "cell_type": "markdown",
   "id": "baaf736a",
   "metadata": {},
   "source": [
    "## Analyse CO2 vs Temperature Anomaly from 800kyrs – present.\n",
    "plot the 2 variables on a graph x,y over time\n",
    "\n",
    "see https://theconversation.com/the-three-minute-story-of-800-000-years-of-climate-change-with-a-sting-in-the-tail-73368: temp + C02 over time\n",
    "\n",
    "** should see a perfect positive correlation **"
   ]
  },
  {
   "cell_type": "code",
   "execution_count": null,
   "id": "4467e3bb",
   "metadata": {},
   "outputs": [],
   "source": []
  },
  {
   "cell_type": "markdown",
   "id": "a9e97cca",
   "metadata": {},
   "source": [
    "## Examine one other (paleo/modern) features (e.g. CH4 or polar ice-coverage)\n",
    "https://en.wikipedia.org/wiki/Methane\n",
    "do the same as above but for CH4 over time \n"
   ]
  },
  {
   "cell_type": "code",
   "execution_count": null,
   "id": "ba21d8e2",
   "metadata": {},
   "outputs": [],
   "source": []
  },
  {
   "cell_type": "markdown",
   "id": "eaaff53d",
   "metadata": {},
   "source": [
    "## Examine Irish context:\n",
    "Climate change signals: (see Maynooth study: The emergence of a climate change\n",
    "signal in long-term Irish meteorological observations - ScienceDirect)\n"
   ]
  },
  {
   "cell_type": "markdown",
   "id": "502e0f44",
   "metadata": {},
   "source": [
    "How have these climate changes affected Irish context- DATA FROM Irish location- observe and plot/ timeseries.\n",
    "more / less / same levels of C02/ CH3/ average temp.\n",
    "\n",
    "see global average versus ireland average\n"
   ]
  },
  {
   "cell_type": "markdown",
   "id": "ea2d084a",
   "metadata": {},
   "source": [
    "## Fuse and analyse data from various data sources and format fused data set as a pandas dataframe and export to csv and json formats"
   ]
  },
  {
   "cell_type": "code",
   "execution_count": null,
   "id": "01808700",
   "metadata": {},
   "outputs": [],
   "source": []
  },
  {
   "cell_type": "markdown",
   "id": "5da42e01",
   "metadata": {},
   "source": [
    "## For all of the above variables, analyse the data, the trends and the relationships between them (temporal leads/lags/frequency analysis)."
   ]
  },
  {
   "cell_type": "code",
   "execution_count": null,
   "id": "7595af7c",
   "metadata": {},
   "outputs": [],
   "source": []
  },
  {
   "cell_type": "markdown",
   "id": "087001f0",
   "metadata": {},
   "source": [
    "## Predict global temperature anomaly over next few decades (synthesise data) and compare to published climate models if atmospheric CO2 trends continue"
   ]
  },
  {
   "cell_type": "code",
   "execution_count": null,
   "id": "208f4d0e",
   "metadata": {},
   "outputs": [],
   "source": []
  },
  {
   "cell_type": "code",
   "execution_count": null,
   "id": "cd8fac63",
   "metadata": {},
   "outputs": [],
   "source": []
  },
  {
   "cell_type": "markdown",
   "id": "1d21b349",
   "metadata": {},
   "source": [
    "## Comment on accelerated warming based on very latest features (e.g. temperature/polar-icecoverage)"
   ]
  },
  {
   "cell_type": "code",
   "execution_count": null,
   "id": "9a325caa",
   "metadata": {},
   "outputs": [],
   "source": []
  },
  {
   "cell_type": "code",
   "execution_count": null,
   "id": "72ae05fe",
   "metadata": {},
   "outputs": [],
   "source": []
  },
  {
   "cell_type": "code",
   "execution_count": null,
   "id": "f65616cb",
   "metadata": {},
   "outputs": [],
   "source": []
  },
  {
   "cell_type": "markdown",
   "id": "42b0061e",
   "metadata": {},
   "source": [
    "## References"
   ]
  },
  {
   "cell_type": "code",
   "execution_count": null,
   "id": "2db30b58",
   "metadata": {},
   "outputs": [],
   "source": []
  },
  {
   "cell_type": "code",
   "execution_count": null,
   "id": "b9c1f399",
   "metadata": {},
   "outputs": [],
   "source": []
  },
  {
   "cell_type": "markdown",
   "id": "71baac6c",
   "metadata": {},
   "source": [
    "## My resources \n",
    " - https://www.climate.gov/news-features/understanding-climate/climate-change-atmospheric-carbon-dioxide\n",
    " - https://en.wikipedia.org/wiki/Temperature_anomaly\n",
    " - https://www.youtube.com/watch?v=I7jKxO4nKZc  \n",
    " - https://gml.noaa.gov/ccgg/carbontracker/\n",
    " - https://theconversation.com/the-three-minute-story-of-800-000-years-of-climate-change-with-a-sting-in-the-tail-73368"
   ]
  },
  {
   "cell_type": "markdown",
   "id": "7e366ce8",
   "metadata": {},
   "source": [
    "## END\n",
    "***"
   ]
  },
  {
   "cell_type": "code",
   "execution_count": null,
   "id": "984a03cb",
   "metadata": {},
   "outputs": [],
   "source": []
  }
 ],
 "metadata": {
  "kernelspec": {
   "display_name": "Python 3 (ipykernel)",
   "language": "python",
   "name": "python3"
  },
  "language_info": {
   "codemirror_mode": {
    "name": "ipython",
    "version": 3
   },
   "file_extension": ".py",
   "mimetype": "text/x-python",
   "name": "python",
   "nbconvert_exporter": "python",
   "pygments_lexer": "ipython3",
   "version": "3.11.4"
  }
 },
 "nbformat": 4,
 "nbformat_minor": 5
}

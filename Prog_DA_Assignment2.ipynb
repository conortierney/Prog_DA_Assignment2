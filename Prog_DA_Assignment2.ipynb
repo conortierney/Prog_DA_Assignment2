{
 "cells": [
  {
   "cell_type": "markdown",
   "id": "32d49d60",
   "metadata": {},
   "source": [
    "# Programming for Data Analysis - Project 2 (2023)\n"
   ]
  },
  {
   "cell_type": "markdown",
   "id": "541fc887",
   "metadata": {},
   "source": [
    "## About / Introduction"
   ]
  },
  {
   "cell_type": "markdown",
   "id": "755acb18",
   "metadata": {},
   "source": [
    "Task - An analysis of paleo-present climate data"
   ]
  },
  {
   "cell_type": "markdown",
   "id": "ed812274",
   "metadata": {},
   "source": [
    "## Table of Contents"
   ]
  },
  {
   "cell_type": "code",
   "execution_count": 3,
   "id": "80a190ed",
   "metadata": {},
   "outputs": [],
   "source": [
    "# test update comment 29/07/24 for github commit\n"
   ]
  },
  {
   "cell_type": "markdown",
   "id": "2d2bc8ac",
   "metadata": {},
   "source": [
    "## Steps to complete the project"
   ]
  },
  {
   "cell_type": "markdown",
   "id": "f0cf37ba",
   "metadata": {},
   "source": [
    "- Data collection\n",
    "- Load the data: use pandas to load these datasets into dataframes.\n",
    "- convert .tx frile to readable csv files for Pandas\n",
    "- merge up to date C02 data (Manau Loa 1958- present with Ice core data: stick together for C02 and Temp data cleansing)\n"
   ]
  },
  {
   "cell_type": "markdown",
   "id": "3583f939",
   "metadata": {},
   "source": [
    "## Data Collection\n",
    "Obtain datasets for CO2 concentrations and temperature anomalies over the last 800kyrs.\n",
    "\n",
    "sources:CO2 data: Ice core data, such as from the Vostok and EPICA Dome C ice cores, up to date(1958) Manau loa \n",
    "Temperature anomaly data: ice core data can provide temperature anomalies, often derived from isotopic analyses. "
   ]
  },
  {
   "cell_type": "markdown",
   "id": "7bc36e72",
   "metadata": {},
   "source": [
    "## 1. Import the necessary Python Libraries"
   ]
  },
  {
   "cell_type": "code",
   "execution_count": 10,
   "id": "ed50a8aa",
   "metadata": {},
   "outputs": [],
   "source": [
    "import pandas as pd\n",
    "import matplotlib.pyplot as plt\n",
    "import seaborn as sns"
   ]
  },
  {
   "cell_type": "markdown",
   "id": "07b2c094",
   "metadata": {},
   "source": [
    "# 2. Load the datasets"
   ]
  },
  {
   "cell_type": "code",
   "execution_count": 11,
   "id": "931aa322",
   "metadata": {},
   "outputs": [
    {
     "name": "stdout",
     "output_type": "stream",
     "text": [
      "   Gasage (yr BP)   CO2 (ppmv)  sigma mean CO2 (ppmv)\n",
      "0           -51.03      368.02                   0.06\n",
      "1           -48.00      361.78                   0.37\n",
      "2           -46.28      359.65                   0.10\n",
      "3           -44.41      357.11                   0.16\n",
      "4           -43.08      353.95                   0.04\n",
      "5           -42.31      353.72                   0.22\n",
      "6           -41.13      352.42                   0.10\n",
      "7           -39.97      350.81                   0.16\n",
      "8           -39.41      349.80                   0.14\n",
      "9           -38.97      349.28                   0.13\n",
      "   Bag  depth_top_m  age_calBP  Deuterium  Temperature\n",
      "0    1         0.00  -50.00000        NaN          NaN\n",
      "1    2         0.55  -43.54769        NaN          NaN\n",
      "2    3         1.10  -37.41829        NaN          NaN\n",
      "3    4         1.65  -31.61153        NaN          NaN\n",
      "4    5         2.20  -24.51395        NaN          NaN\n",
      "5    6         2.75  -17.73776        NaN          NaN\n",
      "6    7         3.30  -10.95945        NaN          NaN\n",
      "7    8         3.85   -3.20879        NaN          NaN\n",
      "8    9         4.40    5.48176        NaN          NaN\n",
      "9   10         4.95   13.52038        NaN          NaN\n"
     ]
    }
   ],
   "source": [
    "co2_data = pd.read_csv('C:/Users/conor/Downloads/Composite CO2 record (0-800 kyr BP).csv')\n",
    "temperature_data = pd.read_csv('C:/Users/conor/Downloads/EPICA Dome C NOAA- 800KYr Deuterium Data and Temperature.csv')\n",
    "\n",
    "# Display the first few rows to check the data\n",
    "print(co2_data.head(10))     # Composite CO2 record (0-800 kyr BP). Present = 1950.\n",
    "print(temperature_data.head(10))"
   ]
  },
  {
   "attachments": {},
   "cell_type": "markdown",
   "id": "1aba1d2d",
   "metadata": {},
   "source": [
    "### References for the above - save to github for referenece\n",
    "- Composite of atmospheric CO2 records from Antarctic ice cores: Bereiter et al. (2014), Revision of the EPICA Dome C CO2 record from 800 to 600 kyr before present, Geophysical Research Letters, doi: 10.1002/2014GL061957.\n",
    "\n",
    "- temp data: https://www.ncei.noaa.gov/access/paleo-search/study/6080 (converted from .txt file)"
   ]
  },
  {
   "attachments": {},
   "cell_type": "markdown",
   "id": "f5fd0425",
   "metadata": {},
   "source": [
    "### Note \n",
    "This new version of CO2 composite replaces the old version of Lüthi et al. (2008), which contains the analytical bias.\n",
    "\n",
    "For latest anthropogenic data refer to NOAA/Mauna Loa record.\n",
    "\n",
    "Age unit is in years before present (yr BP) whereas present refers to 1950.\n",
    "\n",
    "Note, not all records shown in sheet \"all records\" are part of the composite. The following studies are part of the composite.\n",
    "- -51-1800 yr BP:\tLaw Dome (Rubino et al., 2013)\t\n",
    "- 1.8-2 kyr BP:\tLaw Dome (MacFarling Meure et al., 2006)\t\n",
    "- 2-11 kyr BP:\tDome C (Monnin et al., 2001 + 2004)\t\n",
    "- 11-22 kyr BP:\tWAIS (Marcott et al., 2014) minus 4 ppmv (see text)\t\n",
    "- 22-40 kyr BP:\tSiple Dome (Ahn et al., 2014)\t\n",
    "- 40-60 kyr BP:\tTALDICE (Bereiter et al., 2012)\t\n",
    "- 60-115 kyr BP:\tEDML (Bereiter et al., 2012)\t\n",
    "- 105-155 kyr BP:\tDome C Sublimation (Schneider et al., 2013)\t\n",
    "- 155-393 kyr BP:\tVostok (Petit et al., 1999)\t\n",
    "- 393-611 kyr BP:\tDome C (Siegenthaler et al., 2005)\t\n",
    "- 612-800 kyr BP:\tDome C (Bereiter et al., 2014)\t\n",
    "\n"
   ]
  },
  {
   "cell_type": "markdown",
   "id": "2e57ad1d",
   "metadata": {},
   "source": [
    "The data from EPICA Dome C provides a detailed picture of climate changes over the last 800,000 years. It includes warm periods (interglacials) and cold periods (glacials or ice ages).\n",
    "\n",
    "Using deuterium data, scientists can estimate the temperature at the time the ice was formed. By examining ice from different layers, they can build a record of how the Earth’s temperature has changed over hundreds of thousands of years.\n",
    "\n",
    "This research helps us understand natural climate patterns and how they relate to changes in the Earth’s orbit and greenhouse gas levels.\n",
    "It also provides context for current climate change, showing how today's temperature and CO2 levels compare to natural variations in the past.\n",
    "\n",
    "The EPICA Dome C ice core data is typically considered to be up-to-date until around the year 2000 CE. The core was drilled between 1996 and 2004, and the most recent layers of ice would represent snow and ice deposited just before or around the time of drilling. Therefore, the study provides climate data from approximately 800,000 years ago up to about the year 2000."
   ]
  },
  {
   "cell_type": "markdown",
   "id": "73d562f1",
   "metadata": {},
   "source": [
    "### 3. Data Preprocessing\n",
    "Ensure that the datasets are aligned correctly in terms of time periods. merge the datasets on a common time column."
   ]
  },
  {
   "cell_type": "code",
   "execution_count": 12,
   "id": "e5b4c31d",
   "metadata": {},
   "outputs": [
    {
     "ename": "KeyError",
     "evalue": "'Year'",
     "output_type": "error",
     "traceback": [
      "\u001b[1;31m---------------------------------------------------------------------------\u001b[0m",
      "\u001b[1;31mKeyError\u001b[0m                                  Traceback (most recent call last)",
      "File \u001b[1;32m~\\anaconda3\\Lib\\site-packages\\pandas\\core\\indexes\\base.py:3802\u001b[0m, in \u001b[0;36mIndex.get_loc\u001b[1;34m(self, key, method, tolerance)\u001b[0m\n\u001b[0;32m   3801\u001b[0m \u001b[38;5;28;01mtry\u001b[39;00m:\n\u001b[1;32m-> 3802\u001b[0m     \u001b[38;5;28;01mreturn\u001b[39;00m \u001b[38;5;28mself\u001b[39m\u001b[38;5;241m.\u001b[39m_engine\u001b[38;5;241m.\u001b[39mget_loc(casted_key)\n\u001b[0;32m   3803\u001b[0m \u001b[38;5;28;01mexcept\u001b[39;00m \u001b[38;5;167;01mKeyError\u001b[39;00m \u001b[38;5;28;01mas\u001b[39;00m err:\n",
      "File \u001b[1;32m~\\anaconda3\\Lib\\site-packages\\pandas\\_libs\\index.pyx:138\u001b[0m, in \u001b[0;36mpandas._libs.index.IndexEngine.get_loc\u001b[1;34m()\u001b[0m\n",
      "File \u001b[1;32m~\\anaconda3\\Lib\\site-packages\\pandas\\_libs\\index.pyx:165\u001b[0m, in \u001b[0;36mpandas._libs.index.IndexEngine.get_loc\u001b[1;34m()\u001b[0m\n",
      "File \u001b[1;32mpandas\\_libs\\hashtable_class_helper.pxi:5745\u001b[0m, in \u001b[0;36mpandas._libs.hashtable.PyObjectHashTable.get_item\u001b[1;34m()\u001b[0m\n",
      "File \u001b[1;32mpandas\\_libs\\hashtable_class_helper.pxi:5753\u001b[0m, in \u001b[0;36mpandas._libs.hashtable.PyObjectHashTable.get_item\u001b[1;34m()\u001b[0m\n",
      "\u001b[1;31mKeyError\u001b[0m: 'Year'",
      "\nThe above exception was the direct cause of the following exception:\n",
      "\u001b[1;31mKeyError\u001b[0m                                  Traceback (most recent call last)",
      "Cell \u001b[1;32mIn[12], line 5\u001b[0m\n\u001b[0;32m      2\u001b[0m bin_size \u001b[38;5;241m=\u001b[39m \u001b[38;5;241m100000\u001b[39m\n\u001b[0;32m      4\u001b[0m \u001b[38;5;66;03m# Create a new column for the binned time intervals\u001b[39;00m\n\u001b[1;32m----> 5\u001b[0m co2_data[\u001b[38;5;124m'\u001b[39m\u001b[38;5;124mTime_Bin\u001b[39m\u001b[38;5;124m'\u001b[39m] \u001b[38;5;241m=\u001b[39m (co2_data[\u001b[38;5;124m'\u001b[39m\u001b[38;5;124mYear\u001b[39m\u001b[38;5;124m'\u001b[39m] \u001b[38;5;241m/\u001b[39m\u001b[38;5;241m/\u001b[39m bin_size) \u001b[38;5;241m*\u001b[39m bin_size\n\u001b[0;32m      6\u001b[0m temperature_data[\u001b[38;5;124m'\u001b[39m\u001b[38;5;124mTime_Bin\u001b[39m\u001b[38;5;124m'\u001b[39m] \u001b[38;5;241m=\u001b[39m (temperature_data[\u001b[38;5;124m'\u001b[39m\u001b[38;5;124mYear\u001b[39m\u001b[38;5;124m'\u001b[39m] \u001b[38;5;241m/\u001b[39m\u001b[38;5;241m/\u001b[39m bin_size) \u001b[38;5;241m*\u001b[39m bin_size\n\u001b[0;32m      8\u001b[0m \u001b[38;5;66;03m# Group by the binned time intervals and take the mean or median\u001b[39;00m\n",
      "File \u001b[1;32m~\\anaconda3\\Lib\\site-packages\\pandas\\core\\frame.py:3807\u001b[0m, in \u001b[0;36mDataFrame.__getitem__\u001b[1;34m(self, key)\u001b[0m\n\u001b[0;32m   3805\u001b[0m \u001b[38;5;28;01mif\u001b[39;00m \u001b[38;5;28mself\u001b[39m\u001b[38;5;241m.\u001b[39mcolumns\u001b[38;5;241m.\u001b[39mnlevels \u001b[38;5;241m>\u001b[39m \u001b[38;5;241m1\u001b[39m:\n\u001b[0;32m   3806\u001b[0m     \u001b[38;5;28;01mreturn\u001b[39;00m \u001b[38;5;28mself\u001b[39m\u001b[38;5;241m.\u001b[39m_getitem_multilevel(key)\n\u001b[1;32m-> 3807\u001b[0m indexer \u001b[38;5;241m=\u001b[39m \u001b[38;5;28mself\u001b[39m\u001b[38;5;241m.\u001b[39mcolumns\u001b[38;5;241m.\u001b[39mget_loc(key)\n\u001b[0;32m   3808\u001b[0m \u001b[38;5;28;01mif\u001b[39;00m is_integer(indexer):\n\u001b[0;32m   3809\u001b[0m     indexer \u001b[38;5;241m=\u001b[39m [indexer]\n",
      "File \u001b[1;32m~\\anaconda3\\Lib\\site-packages\\pandas\\core\\indexes\\base.py:3804\u001b[0m, in \u001b[0;36mIndex.get_loc\u001b[1;34m(self, key, method, tolerance)\u001b[0m\n\u001b[0;32m   3802\u001b[0m     \u001b[38;5;28;01mreturn\u001b[39;00m \u001b[38;5;28mself\u001b[39m\u001b[38;5;241m.\u001b[39m_engine\u001b[38;5;241m.\u001b[39mget_loc(casted_key)\n\u001b[0;32m   3803\u001b[0m \u001b[38;5;28;01mexcept\u001b[39;00m \u001b[38;5;167;01mKeyError\u001b[39;00m \u001b[38;5;28;01mas\u001b[39;00m err:\n\u001b[1;32m-> 3804\u001b[0m     \u001b[38;5;28;01mraise\u001b[39;00m \u001b[38;5;167;01mKeyError\u001b[39;00m(key) \u001b[38;5;28;01mfrom\u001b[39;00m \u001b[38;5;21;01merr\u001b[39;00m\n\u001b[0;32m   3805\u001b[0m \u001b[38;5;28;01mexcept\u001b[39;00m \u001b[38;5;167;01mTypeError\u001b[39;00m:\n\u001b[0;32m   3806\u001b[0m     \u001b[38;5;66;03m# If we have a listlike key, _check_indexing_error will raise\u001b[39;00m\n\u001b[0;32m   3807\u001b[0m     \u001b[38;5;66;03m#  InvalidIndexError. Otherwise we fall through and re-raise\u001b[39;00m\n\u001b[0;32m   3808\u001b[0m     \u001b[38;5;66;03m#  the TypeError.\u001b[39;00m\n\u001b[0;32m   3809\u001b[0m     \u001b[38;5;28mself\u001b[39m\u001b[38;5;241m.\u001b[39m_check_indexing_error(key)\n",
      "\u001b[1;31mKeyError\u001b[0m: 'Year'"
     ]
    }
   ],
   "source": [
    "# Define the bin size (e.g., 100,000 years)\n",
    "bin_size = 100000\n",
    "\n",
    "# Create a new column for the binned time intervals\n",
    "co2_data['Time_Bin'] = (co2_data['Year'] // bin_size) * bin_size\n",
    "temperature_data['Time_Bin'] = (temperature_data['Year'] // bin_size) * bin_size\n",
    "\n",
    "# Group by the binned time intervals and take the mean or median\n",
    "co2_binned = co2_data.groupby('Time_Bin').mean().reset_index()\n",
    "temperature_binned = temperature_data.groupby('Time_Bin').mean().reset_index()\n",
    "\n",
    "# Merge the binned data\n",
    "data_binned = pd.merge(co2_binned, temperature_binned, on='Time_Bin')\n",
    "\n",
    "# Display the first few rows of the binned and merged data\n",
    "print(data_binned.head())\n",
    "\n"
   ]
  },
  {
   "cell_type": "markdown",
   "id": "baaf736a",
   "metadata": {},
   "source": [
    "## Analyse CO2 vs Temperature Anomaly from 800kyrs – present.\n",
    "plot the 2 variables on a graph x,y over time\n",
    "\n",
    "see https://theconversation.com/the-three-minute-story-of-800-000-years-of-climate-change-with-a-sting-in-the-tail-73368: temp + C02 over time\n",
    "\n",
    "** should see a perfect positive correlation **"
   ]
  },
  {
   "cell_type": "code",
   "execution_count": null,
   "id": "4467e3bb",
   "metadata": {},
   "outputs": [],
   "source": []
  },
  {
   "cell_type": "markdown",
   "id": "a9e97cca",
   "metadata": {},
   "source": [
    "## Examine one other (paleo/modern) features (e.g. CH4 or polar ice-coverage)\n",
    "https://en.wikipedia.org/wiki/Methane\n",
    "do the same as above but for CH4 over time \n"
   ]
  },
  {
   "cell_type": "code",
   "execution_count": null,
   "id": "ba21d8e2",
   "metadata": {},
   "outputs": [],
   "source": []
  },
  {
   "cell_type": "markdown",
   "id": "eaaff53d",
   "metadata": {},
   "source": [
    "## Examine Irish context:\n",
    "Climate change signals: (see Maynooth study: The emergence of a climate change\n",
    "signal in long-term Irish meteorological observations - ScienceDirect)\n"
   ]
  },
  {
   "cell_type": "markdown",
   "id": "502e0f44",
   "metadata": {},
   "source": [
    "How have these climate changes affected Irish context- DATA FROM Irish location- observe and plot/ timeseries.\n",
    "more / less / same levels of C02/ CH3/ average temp.\n",
    "\n",
    "see global average versus ireland average\n"
   ]
  },
  {
   "cell_type": "markdown",
   "id": "ea2d084a",
   "metadata": {},
   "source": [
    "## Fuse and analyse data from various data sources and format fused data set as a pandas dataframe and export to csv and json formats"
   ]
  },
  {
   "cell_type": "code",
   "execution_count": null,
   "id": "01808700",
   "metadata": {},
   "outputs": [],
   "source": []
  },
  {
   "cell_type": "markdown",
   "id": "5da42e01",
   "metadata": {},
   "source": [
    "## For all of the above variables, analyse the data, the trends and the relationships between them (temporal leads/lags/frequency analysis)."
   ]
  },
  {
   "cell_type": "code",
   "execution_count": null,
   "id": "7595af7c",
   "metadata": {},
   "outputs": [],
   "source": []
  },
  {
   "cell_type": "markdown",
   "id": "087001f0",
   "metadata": {},
   "source": [
    "## Predict global temperature anomaly over next few decades (synthesise data) and compare to published climate models if atmospheric CO2 trends continue"
   ]
  },
  {
   "cell_type": "code",
   "execution_count": null,
   "id": "208f4d0e",
   "metadata": {},
   "outputs": [],
   "source": []
  },
  {
   "cell_type": "code",
   "execution_count": null,
   "id": "cd8fac63",
   "metadata": {},
   "outputs": [],
   "source": []
  },
  {
   "cell_type": "markdown",
   "id": "1d21b349",
   "metadata": {},
   "source": [
    "## Comment on accelerated warming based on very latest features (e.g. temperature/polar-icecoverage)"
   ]
  },
  {
   "cell_type": "code",
   "execution_count": null,
   "id": "9a325caa",
   "metadata": {},
   "outputs": [],
   "source": []
  },
  {
   "cell_type": "code",
   "execution_count": null,
   "id": "72ae05fe",
   "metadata": {},
   "outputs": [],
   "source": []
  },
  {
   "cell_type": "code",
   "execution_count": null,
   "id": "f65616cb",
   "metadata": {},
   "outputs": [],
   "source": []
  },
  {
   "cell_type": "markdown",
   "id": "42b0061e",
   "metadata": {},
   "source": [
    "## References"
   ]
  },
  {
   "cell_type": "code",
   "execution_count": null,
   "id": "2db30b58",
   "metadata": {},
   "outputs": [],
   "source": []
  },
  {
   "cell_type": "code",
   "execution_count": null,
   "id": "b9c1f399",
   "metadata": {},
   "outputs": [],
   "source": []
  },
  {
   "cell_type": "markdown",
   "id": "71baac6c",
   "metadata": {},
   "source": [
    "## My resources \n",
    " - https://www.climate.gov/news-features/understanding-climate/climate-change-atmospheric-carbon-dioxide\n",
    " - https://en.wikipedia.org/wiki/Temperature_anomaly\n",
    " - https://www.youtube.com/watch?v=I7jKxO4nKZc  \n",
    " - https://gml.noaa.gov/ccgg/carbontracker/\n",
    " - https://theconversation.com/the-three-minute-story-of-800-000-years-of-climate-change-with-a-sting-in-the-tail-73368"
   ]
  },
  {
   "cell_type": "markdown",
   "id": "7e366ce8",
   "metadata": {},
   "source": [
    "## END\n",
    "***"
   ]
  },
  {
   "cell_type": "code",
   "execution_count": null,
   "id": "984a03cb",
   "metadata": {},
   "outputs": [],
   "source": []
  }
 ],
 "metadata": {
  "kernelspec": {
   "display_name": "Python 3 (ipykernel)",
   "language": "python",
   "name": "python3"
  },
  "language_info": {
   "codemirror_mode": {
    "name": "ipython",
    "version": 3
   },
   "file_extension": ".py",
   "mimetype": "text/x-python",
   "name": "python",
   "nbconvert_exporter": "python",
   "pygments_lexer": "ipython3",
   "version": "3.11.4"
  }
 },
 "nbformat": 4,
 "nbformat_minor": 5
}
